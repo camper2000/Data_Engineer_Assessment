{
 "cells": [
  {
   "cell_type": "markdown",
   "metadata": {},
   "source": [
    "# Section 1: Data Pipelines"
   ]
  },
  {
   "cell_type": "markdown",
   "metadata": {},
   "source": [
    "The objective of this Notebook is to process data files by:\n",
    "- Split the name field into first_name, and last_name;\n",
    "- Remove any zeros prepended to the price field;\n",
    "- Delete any rows which do not have a name;\n",
    "- Create a new field named above_100, which is true if the price is strictly greater than 100"
   ]
  },
  {
   "cell_type": "code",
   "execution_count": 1,
   "metadata": {},
   "outputs": [],
   "source": [
    "# import libraries\n",
    "import pandas as pd\n",
    "import numpy as np\n",
    "import sqlite3"
   ]
  },
  {
   "cell_type": "code",
   "execution_count": 37,
   "metadata": {
    "scrolled": true
   },
   "outputs": [
    {
     "data": {
      "text/html": [
       "<div>\n",
       "<style scoped>\n",
       "    .dataframe tbody tr th:only-of-type {\n",
       "        vertical-align: middle;\n",
       "    }\n",
       "\n",
       "    .dataframe tbody tr th {\n",
       "        vertical-align: top;\n",
       "    }\n",
       "\n",
       "    .dataframe thead th {\n",
       "        text-align: right;\n",
       "    }\n",
       "</style>\n",
       "<table border=\"1\" class=\"dataframe\">\n",
       "  <thead>\n",
       "    <tr style=\"text-align: right;\">\n",
       "      <th></th>\n",
       "      <th>name</th>\n",
       "      <th>price</th>\n",
       "      <th>first_name</th>\n",
       "      <th>last_name</th>\n",
       "      <th>above_100</th>\n",
       "    </tr>\n",
       "  </thead>\n",
       "  <tbody>\n",
       "    <tr>\n",
       "      <th>0</th>\n",
       "      <td>William Dixon</td>\n",
       "      <td>109.037280</td>\n",
       "      <td>William</td>\n",
       "      <td>Dixon</td>\n",
       "      <td>True</td>\n",
       "    </tr>\n",
       "    <tr>\n",
       "      <th>1</th>\n",
       "      <td>Kristen Horn</td>\n",
       "      <td>262.524652</td>\n",
       "      <td>Kristen</td>\n",
       "      <td>Horn</td>\n",
       "      <td>True</td>\n",
       "    </tr>\n",
       "    <tr>\n",
       "      <th>2</th>\n",
       "      <td>Kimberly Chang</td>\n",
       "      <td>187.007258</td>\n",
       "      <td>Kimberly</td>\n",
       "      <td>Chang</td>\n",
       "      <td>True</td>\n",
       "    </tr>\n",
       "    <tr>\n",
       "      <th>3</th>\n",
       "      <td>Mary Ball</td>\n",
       "      <td>283.174648</td>\n",
       "      <td>Mary</td>\n",
       "      <td>Ball</td>\n",
       "      <td>True</td>\n",
       "    </tr>\n",
       "    <tr>\n",
       "      <th>4</th>\n",
       "      <td>Benjamin Craig</td>\n",
       "      <td>143.871582</td>\n",
       "      <td>Benjamin</td>\n",
       "      <td>Craig</td>\n",
       "      <td>True</td>\n",
       "    </tr>\n",
       "  </tbody>\n",
       "</table>\n",
       "</div>"
      ],
      "text/plain": [
       "             name       price first_name last_name  above_100\n",
       "0   William Dixon  109.037280    William     Dixon       True\n",
       "1    Kristen Horn  262.524652    Kristen      Horn       True\n",
       "2  Kimberly Chang  187.007258   Kimberly     Chang       True\n",
       "3       Mary Ball  283.174648       Mary      Ball       True\n",
       "4  Benjamin Craig  143.871582   Benjamin     Craig       True"
      ]
     },
     "execution_count": 37,
     "metadata": {},
     "output_type": "execute_result"
    }
   ],
   "source": [
    "# load messages dataset\n",
    "dataset1 =  pd.read_csv('dataset1.csv')\n",
    "\n",
    "# clean data\n",
    "dataset1['name'] = dataset1['name'].str.strip()\n",
    "dataset1['name'].replace('', np.nan, inplace=True)\n",
    "dataset1['price'] = pd.to_numeric(dataset1['price'],errors='coerce')\n",
    "# remove rows with empty name or non-numeric price\n",
    "dataset1.dropna(subset=['name'], inplace=True)\n",
    "dataset1.dropna(subset=['price'], inplace=True)\n",
    "\n",
    "# Split the name field into first_name and last_name\n",
    "dataset1[['first_name','last_name']] = dataset1['name'].loc[dataset1['name'].str.split().str.len() == 2].str.split(expand=True)\n",
    "# Create a new field named above_100\n",
    "dataset1['above_100'] = np.where(dataset1['price']>100, True, False)\n",
    "\n",
    "dataset1.head()"
   ]
  },
  {
   "cell_type": "code",
   "execution_count": 33,
   "metadata": {
    "scrolled": true
   },
   "outputs": [
    {
     "data": {
      "text/html": [
       "<div>\n",
       "<style scoped>\n",
       "    .dataframe tbody tr th:only-of-type {\n",
       "        vertical-align: middle;\n",
       "    }\n",
       "\n",
       "    .dataframe tbody tr th {\n",
       "        vertical-align: top;\n",
       "    }\n",
       "\n",
       "    .dataframe thead th {\n",
       "        text-align: right;\n",
       "    }\n",
       "</style>\n",
       "<table border=\"1\" class=\"dataframe\">\n",
       "  <thead>\n",
       "    <tr style=\"text-align: right;\">\n",
       "      <th></th>\n",
       "      <th>name</th>\n",
       "      <th>price</th>\n",
       "      <th>first_name</th>\n",
       "      <th>last_name</th>\n",
       "      <th>above_100</th>\n",
       "    </tr>\n",
       "  </thead>\n",
       "  <tbody>\n",
       "    <tr>\n",
       "      <th>1</th>\n",
       "      <td>Barbara Freeman</td>\n",
       "      <td>141.890534</td>\n",
       "      <td>Barbara</td>\n",
       "      <td>Freeman</td>\n",
       "      <td>True</td>\n",
       "    </tr>\n",
       "    <tr>\n",
       "      <th>2</th>\n",
       "      <td>Rebecca Zimmerman</td>\n",
       "      <td>293.373272</td>\n",
       "      <td>Rebecca</td>\n",
       "      <td>Zimmerman</td>\n",
       "      <td>True</td>\n",
       "    </tr>\n",
       "    <tr>\n",
       "      <th>3</th>\n",
       "      <td>Patricia Velasquez</td>\n",
       "      <td>249.947925</td>\n",
       "      <td>Patricia</td>\n",
       "      <td>Velasquez</td>\n",
       "      <td>True</td>\n",
       "    </tr>\n",
       "    <tr>\n",
       "      <th>4</th>\n",
       "      <td>Ronnie Clark</td>\n",
       "      <td>272.908659</td>\n",
       "      <td>Ronnie</td>\n",
       "      <td>Clark</td>\n",
       "      <td>True</td>\n",
       "    </tr>\n",
       "    <tr>\n",
       "      <th>5</th>\n",
       "      <td>Timothy Rose</td>\n",
       "      <td>65.743270</td>\n",
       "      <td>Timothy</td>\n",
       "      <td>Rose</td>\n",
       "      <td>False</td>\n",
       "    </tr>\n",
       "  </tbody>\n",
       "</table>\n",
       "</div>"
      ],
      "text/plain": [
       "                 name       price first_name  last_name  above_100\n",
       "1     Barbara Freeman  141.890534    Barbara    Freeman       True\n",
       "2   Rebecca Zimmerman  293.373272    Rebecca  Zimmerman       True\n",
       "3  Patricia Velasquez  249.947925   Patricia  Velasquez       True\n",
       "4        Ronnie Clark  272.908659     Ronnie      Clark       True\n",
       "5        Timothy Rose   65.743270    Timothy       Rose      False"
      ]
     },
     "execution_count": 33,
     "metadata": {},
     "output_type": "execute_result"
    }
   ],
   "source": [
    "# load messages dataset\n",
    "dataset2 =  pd.read_csv('dataset2.csv')\n",
    "\n",
    "# clean data\n",
    "dataset2['name'] = dataset2['name'].str.strip()\n",
    "dataset2['name'].replace('', np.nan, inplace=True)\n",
    "dataset2['price'] = pd.to_numeric(dataset2['price'],errors='coerce')\n",
    "# remove rows with empty name or non-numeric price\n",
    "dataset2.dropna(subset=['name'], inplace=True)\n",
    "dataset2.dropna(subset=['price'], inplace=True)\n",
    "\n",
    "# Split the name field into first_name and last_name\n",
    "dataset2[['first_name','last_name']] = dataset2['name'].loc[dataset2['name'].str.split().str.len() == 2].str.split(expand=True)\n",
    "# Create a new field named above_100\n",
    "dataset2['above_100'] = np.where(dataset2['price']>100, True, False)\n",
    "\n",
    "dataset2.head()"
   ]
  },
  {
   "cell_type": "code",
   "execution_count": 39,
   "metadata": {},
   "outputs": [],
   "source": [
    "# export processed csv\n",
    "dataset1.to_csv('dataset1_processed.csv',index=False)\n",
    "dataset2.to_csv('dataset2_processed.csv',index=False)"
   ]
  }
 ],
 "metadata": {
  "kernelspec": {
   "display_name": "Python 3",
   "language": "python",
   "name": "python3"
  },
  "language_info": {
   "codemirror_mode": {
    "name": "ipython",
    "version": 3
   },
   "file_extension": ".py",
   "mimetype": "text/x-python",
   "name": "python",
   "nbconvert_exporter": "python",
   "pygments_lexer": "ipython3",
   "version": "3.7.6"
  }
 },
 "nbformat": 4,
 "nbformat_minor": 2
}
